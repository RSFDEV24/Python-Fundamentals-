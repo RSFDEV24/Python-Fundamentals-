{
  "nbformat": 4,
  "nbformat_minor": 0,
  "metadata": {
    "colab": {
      "name": "Excercise1.ipynb",
      "provenance": [],
      "collapsed_sections": [],
      "authorship_tag": "ABX9TyNj/FrMvJBZzw6UNiCGsW6b",
      "include_colab_link": true
    },
    "kernelspec": {
      "name": "python3",
      "display_name": "Python 3"
    },
    "language_info": {
      "name": "python"
    }
  },
  "cells": [
    {
      "cell_type": "markdown",
      "metadata": {
        "id": "view-in-github",
        "colab_type": "text"
      },
      "source": [
        "<a href=\"https://colab.research.google.com/github/RSFDEV24/Python-Fundamentals-/blob/main/Excercise1.ipynb\" target=\"_parent\"><img src=\"https://colab.research.google.com/assets/colab-badge.svg\" alt=\"Open In Colab\"/></a>"
      ]
    },
    {
      "cell_type": "code",
      "metadata": {
        "id": "_3-CKLPAAmas"
      },
      "source": [
        "num1=100\n",
        "num2=300.0\n",
        "str1=\"I would like to learn data science\"\n",
        "list1=['A','B','C']\n",
        "bol1=True\n"
      ],
      "execution_count": 11,
      "outputs": []
    },
    {
      "cell_type": "code",
      "metadata": {
        "id": "NkQnAlYEGeO8"
      },
      "source": [
        "#Check the type of each variable that you created using the type() function. "
      ],
      "execution_count": 13,
      "outputs": []
    },
    {
      "cell_type": "code",
      "metadata": {
        "id": "H1FLxSHrA36s",
        "colab": {
          "base_uri": "https://localhost:8080/"
        },
        "outputId": "5f593802-e648-44f0-9597-b1535259e3f4"
      },
      "source": [
        "type(list1)\n"
      ],
      "execution_count": 12,
      "outputs": [
        {
          "output_type": "execute_result",
          "data": {
            "text/plain": [
              "list"
            ]
          },
          "metadata": {
            "tags": []
          },
          "execution_count": 12
        }
      ]
    },
    {
      "cell_type": "code",
      "metadata": {
        "colab": {
          "base_uri": "https://localhost:8080/"
        },
        "id": "TBnty-bzF87z",
        "outputId": "bd0c7995-f275-470c-c975-bf826ceabaef"
      },
      "source": [
        "# Print the value of each variable using the print() function.\n",
        "print(num2)"
      ],
      "execution_count": 14,
      "outputs": [
        {
          "output_type": "stream",
          "text": [
            "300.0\n"
          ],
          "name": "stdout"
        }
      ]
    },
    {
      "cell_type": "code",
      "metadata": {
        "id": "kVseKCc5HWGp"
      },
      "source": [
        "num1 = \"100\";num2=num1 ;num3 = num2"
      ],
      "execution_count": 16,
      "outputs": []
    },
    {
      "cell_type": "code",
      "metadata": {
        "colab": {
          "base_uri": "https://localhost:8080/"
        },
        "id": "iGnopsNgItse",
        "outputId": "a60bbeab-b04b-44e0-a571-293d772534d7"
      },
      "source": [
        "print(num2)"
      ],
      "execution_count": 18,
      "outputs": [
        {
          "output_type": "stream",
          "text": [
            "100\n"
          ],
          "name": "stdout"
        }
      ]
    },
    {
      "cell_type": "code",
      "metadata": {
        "id": "EFXe2ypCJQYW"
      },
      "source": [
        "num1=10;num2=20;num3=30"
      ],
      "execution_count": 19,
      "outputs": []
    },
    {
      "cell_type": "code",
      "metadata": {
        "colab": {
          "base_uri": "https://localhost:8080/"
        },
        "id": "9guFf8s2Jc3t",
        "outputId": "67946259-841e-4a1f-f524-3201d9cc9fd1"
      },
      "source": [
        "print(num3)"
      ],
      "execution_count": 22,
      "outputs": [
        {
          "output_type": "stream",
          "text": [
            "30\n"
          ],
          "name": "stdout"
        }
      ]
    },
    {
      "cell_type": "code",
      "metadata": {
        "colab": {
          "base_uri": "https://localhost:8080/"
        },
        "id": "WHKGmXsiJe05",
        "outputId": "61f654d5-e14e-4f8d-d7fe-aa4b5b4e8770"
      },
      "source": [
        "len(str1)"
      ],
      "execution_count": 23,
      "outputs": [
        {
          "output_type": "execute_result",
          "data": {
            "text/plain": [
              "34"
            ]
          },
          "metadata": {
            "tags": []
          },
          "execution_count": 23
        }
      ]
    },
    {
      "cell_type": "code",
      "metadata": {
        "colab": {
          "base_uri": "https://localhost:8080/"
        },
        "id": "i2UrBTVCJrfQ",
        "outputId": "75928e72-b2c1-48b7-ae63-18fc501857d3"
      },
      "source": [
        "help(str)"
      ],
      "execution_count": 30,
      "outputs": [
        {
          "output_type": "stream",
          "text": [
            "Help on class str in module builtins:\n",
            "\n",
            "class str(object)\n",
            " |  str(object='') -> str\n",
            " |  str(bytes_or_buffer[, encoding[, errors]]) -> str\n",
            " |  \n",
            " |  Create a new string object from the given object. If encoding or\n",
            " |  errors is specified, then the object must expose a data buffer\n",
            " |  that will be decoded using the given encoding and error handler.\n",
            " |  Otherwise, returns the result of object.__str__() (if defined)\n",
            " |  or repr(object).\n",
            " |  encoding defaults to sys.getdefaultencoding().\n",
            " |  errors defaults to 'strict'.\n",
            " |  \n",
            " |  Methods defined here:\n",
            " |  \n",
            " |  __add__(self, value, /)\n",
            " |      Return self+value.\n",
            " |  \n",
            " |  __contains__(self, key, /)\n",
            " |      Return key in self.\n",
            " |  \n",
            " |  __eq__(self, value, /)\n",
            " |      Return self==value.\n",
            " |  \n",
            " |  __format__(self, format_spec, /)\n",
            " |      Return a formatted version of the string as described by format_spec.\n",
            " |  \n",
            " |  __ge__(self, value, /)\n",
            " |      Return self>=value.\n",
            " |  \n",
            " |  __getattribute__(self, name, /)\n",
            " |      Return getattr(self, name).\n",
            " |  \n",
            " |  __getitem__(self, key, /)\n",
            " |      Return self[key].\n",
            " |  \n",
            " |  __getnewargs__(...)\n",
            " |  \n",
            " |  __gt__(self, value, /)\n",
            " |      Return self>value.\n",
            " |  \n",
            " |  __hash__(self, /)\n",
            " |      Return hash(self).\n",
            " |  \n",
            " |  __iter__(self, /)\n",
            " |      Implement iter(self).\n",
            " |  \n",
            " |  __le__(self, value, /)\n",
            " |      Return self<=value.\n",
            " |  \n",
            " |  __len__(self, /)\n",
            " |      Return len(self).\n",
            " |  \n",
            " |  __lt__(self, value, /)\n",
            " |      Return self<value.\n",
            " |  \n",
            " |  __mod__(self, value, /)\n",
            " |      Return self%value.\n",
            " |  \n",
            " |  __mul__(self, value, /)\n",
            " |      Return self*value.\n",
            " |  \n",
            " |  __ne__(self, value, /)\n",
            " |      Return self!=value.\n",
            " |  \n",
            " |  __repr__(self, /)\n",
            " |      Return repr(self).\n",
            " |  \n",
            " |  __rmod__(self, value, /)\n",
            " |      Return value%self.\n",
            " |  \n",
            " |  __rmul__(self, value, /)\n",
            " |      Return value*self.\n",
            " |  \n",
            " |  __sizeof__(self, /)\n",
            " |      Return the size of the string in memory, in bytes.\n",
            " |  \n",
            " |  __str__(self, /)\n",
            " |      Return str(self).\n",
            " |  \n",
            " |  capitalize(self, /)\n",
            " |      Return a capitalized version of the string.\n",
            " |      \n",
            " |      More specifically, make the first character have upper case and the rest lower\n",
            " |      case.\n",
            " |  \n",
            " |  casefold(self, /)\n",
            " |      Return a version of the string suitable for caseless comparisons.\n",
            " |  \n",
            " |  center(self, width, fillchar=' ', /)\n",
            " |      Return a centered string of length width.\n",
            " |      \n",
            " |      Padding is done using the specified fill character (default is a space).\n",
            " |  \n",
            " |  count(...)\n",
            " |      S.count(sub[, start[, end]]) -> int\n",
            " |      \n",
            " |      Return the number of non-overlapping occurrences of substring sub in\n",
            " |      string S[start:end].  Optional arguments start and end are\n",
            " |      interpreted as in slice notation.\n",
            " |  \n",
            " |  encode(self, /, encoding='utf-8', errors='strict')\n",
            " |      Encode the string using the codec registered for encoding.\n",
            " |      \n",
            " |      encoding\n",
            " |        The encoding in which to encode the string.\n",
            " |      errors\n",
            " |        The error handling scheme to use for encoding errors.\n",
            " |        The default is 'strict' meaning that encoding errors raise a\n",
            " |        UnicodeEncodeError.  Other possible values are 'ignore', 'replace' and\n",
            " |        'xmlcharrefreplace' as well as any other name registered with\n",
            " |        codecs.register_error that can handle UnicodeEncodeErrors.\n",
            " |  \n",
            " |  endswith(...)\n",
            " |      S.endswith(suffix[, start[, end]]) -> bool\n",
            " |      \n",
            " |      Return True if S ends with the specified suffix, False otherwise.\n",
            " |      With optional start, test S beginning at that position.\n",
            " |      With optional end, stop comparing S at that position.\n",
            " |      suffix can also be a tuple of strings to try.\n",
            " |  \n",
            " |  expandtabs(self, /, tabsize=8)\n",
            " |      Return a copy where all tab characters are expanded using spaces.\n",
            " |      \n",
            " |      If tabsize is not given, a tab size of 8 characters is assumed.\n",
            " |  \n",
            " |  find(...)\n",
            " |      S.find(sub[, start[, end]]) -> int\n",
            " |      \n",
            " |      Return the lowest index in S where substring sub is found,\n",
            " |      such that sub is contained within S[start:end].  Optional\n",
            " |      arguments start and end are interpreted as in slice notation.\n",
            " |      \n",
            " |      Return -1 on failure.\n",
            " |  \n",
            " |  format(...)\n",
            " |      S.format(*args, **kwargs) -> str\n",
            " |      \n",
            " |      Return a formatted version of S, using substitutions from args and kwargs.\n",
            " |      The substitutions are identified by braces ('{' and '}').\n",
            " |  \n",
            " |  format_map(...)\n",
            " |      S.format_map(mapping) -> str\n",
            " |      \n",
            " |      Return a formatted version of S, using substitutions from mapping.\n",
            " |      The substitutions are identified by braces ('{' and '}').\n",
            " |  \n",
            " |  index(...)\n",
            " |      S.index(sub[, start[, end]]) -> int\n",
            " |      \n",
            " |      Return the lowest index in S where substring sub is found, \n",
            " |      such that sub is contained within S[start:end].  Optional\n",
            " |      arguments start and end are interpreted as in slice notation.\n",
            " |      \n",
            " |      Raises ValueError when the substring is not found.\n",
            " |  \n",
            " |  isalnum(self, /)\n",
            " |      Return True if the string is an alpha-numeric string, False otherwise.\n",
            " |      \n",
            " |      A string is alpha-numeric if all characters in the string are alpha-numeric and\n",
            " |      there is at least one character in the string.\n",
            " |  \n",
            " |  isalpha(self, /)\n",
            " |      Return True if the string is an alphabetic string, False otherwise.\n",
            " |      \n",
            " |      A string is alphabetic if all characters in the string are alphabetic and there\n",
            " |      is at least one character in the string.\n",
            " |  \n",
            " |  isascii(self, /)\n",
            " |      Return True if all characters in the string are ASCII, False otherwise.\n",
            " |      \n",
            " |      ASCII characters have code points in the range U+0000-U+007F.\n",
            " |      Empty string is ASCII too.\n",
            " |  \n",
            " |  isdecimal(self, /)\n",
            " |      Return True if the string is a decimal string, False otherwise.\n",
            " |      \n",
            " |      A string is a decimal string if all characters in the string are decimal and\n",
            " |      there is at least one character in the string.\n",
            " |  \n",
            " |  isdigit(self, /)\n",
            " |      Return True if the string is a digit string, False otherwise.\n",
            " |      \n",
            " |      A string is a digit string if all characters in the string are digits and there\n",
            " |      is at least one character in the string.\n",
            " |  \n",
            " |  isidentifier(self, /)\n",
            " |      Return True if the string is a valid Python identifier, False otherwise.\n",
            " |      \n",
            " |      Use keyword.iskeyword() to test for reserved identifiers such as \"def\" and\n",
            " |      \"class\".\n",
            " |  \n",
            " |  islower(self, /)\n",
            " |      Return True if the string is a lowercase string, False otherwise.\n",
            " |      \n",
            " |      A string is lowercase if all cased characters in the string are lowercase and\n",
            " |      there is at least one cased character in the string.\n",
            " |  \n",
            " |  isnumeric(self, /)\n",
            " |      Return True if the string is a numeric string, False otherwise.\n",
            " |      \n",
            " |      A string is numeric if all characters in the string are numeric and there is at\n",
            " |      least one character in the string.\n",
            " |  \n",
            " |  isprintable(self, /)\n",
            " |      Return True if the string is printable, False otherwise.\n",
            " |      \n",
            " |      A string is printable if all of its characters are considered printable in\n",
            " |      repr() or if it is empty.\n",
            " |  \n",
            " |  isspace(self, /)\n",
            " |      Return True if the string is a whitespace string, False otherwise.\n",
            " |      \n",
            " |      A string is whitespace if all characters in the string are whitespace and there\n",
            " |      is at least one character in the string.\n",
            " |  \n",
            " |  istitle(self, /)\n",
            " |      Return True if the string is a title-cased string, False otherwise.\n",
            " |      \n",
            " |      In a title-cased string, upper- and title-case characters may only\n",
            " |      follow uncased characters and lowercase characters only cased ones.\n",
            " |  \n",
            " |  isupper(self, /)\n",
            " |      Return True if the string is an uppercase string, False otherwise.\n",
            " |      \n",
            " |      A string is uppercase if all cased characters in the string are uppercase and\n",
            " |      there is at least one cased character in the string.\n",
            " |  \n",
            " |  join(self, iterable, /)\n",
            " |      Concatenate any number of strings.\n",
            " |      \n",
            " |      The string whose method is called is inserted in between each given string.\n",
            " |      The result is returned as a new string.\n",
            " |      \n",
            " |      Example: '.'.join(['ab', 'pq', 'rs']) -> 'ab.pq.rs'\n",
            " |  \n",
            " |  ljust(self, width, fillchar=' ', /)\n",
            " |      Return a left-justified string of length width.\n",
            " |      \n",
            " |      Padding is done using the specified fill character (default is a space).\n",
            " |  \n",
            " |  lower(self, /)\n",
            " |      Return a copy of the string converted to lowercase.\n",
            " |  \n",
            " |  lstrip(self, chars=None, /)\n",
            " |      Return a copy of the string with leading whitespace removed.\n",
            " |      \n",
            " |      If chars is given and not None, remove characters in chars instead.\n",
            " |  \n",
            " |  partition(self, sep, /)\n",
            " |      Partition the string into three parts using the given separator.\n",
            " |      \n",
            " |      This will search for the separator in the string.  If the separator is found,\n",
            " |      returns a 3-tuple containing the part before the separator, the separator\n",
            " |      itself, and the part after it.\n",
            " |      \n",
            " |      If the separator is not found, returns a 3-tuple containing the original string\n",
            " |      and two empty strings.\n",
            " |  \n",
            " |  replace(self, old, new, count=-1, /)\n",
            " |      Return a copy with all occurrences of substring old replaced by new.\n",
            " |      \n",
            " |        count\n",
            " |          Maximum number of occurrences to replace.\n",
            " |          -1 (the default value) means replace all occurrences.\n",
            " |      \n",
            " |      If the optional argument count is given, only the first count occurrences are\n",
            " |      replaced.\n",
            " |  \n",
            " |  rfind(...)\n",
            " |      S.rfind(sub[, start[, end]]) -> int\n",
            " |      \n",
            " |      Return the highest index in S where substring sub is found,\n",
            " |      such that sub is contained within S[start:end].  Optional\n",
            " |      arguments start and end are interpreted as in slice notation.\n",
            " |      \n",
            " |      Return -1 on failure.\n",
            " |  \n",
            " |  rindex(...)\n",
            " |      S.rindex(sub[, start[, end]]) -> int\n",
            " |      \n",
            " |      Return the highest index in S where substring sub is found,\n",
            " |      such that sub is contained within S[start:end].  Optional\n",
            " |      arguments start and end are interpreted as in slice notation.\n",
            " |      \n",
            " |      Raises ValueError when the substring is not found.\n",
            " |  \n",
            " |  rjust(self, width, fillchar=' ', /)\n",
            " |      Return a right-justified string of length width.\n",
            " |      \n",
            " |      Padding is done using the specified fill character (default is a space).\n",
            " |  \n",
            " |  rpartition(self, sep, /)\n",
            " |      Partition the string into three parts using the given separator.\n",
            " |      \n",
            " |      This will search for the separator in the string, starting at the end. If\n",
            " |      the separator is found, returns a 3-tuple containing the part before the\n",
            " |      separator, the separator itself, and the part after it.\n",
            " |      \n",
            " |      If the separator is not found, returns a 3-tuple containing two empty strings\n",
            " |      and the original string.\n",
            " |  \n",
            " |  rsplit(self, /, sep=None, maxsplit=-1)\n",
            " |      Return a list of the words in the string, using sep as the delimiter string.\n",
            " |      \n",
            " |        sep\n",
            " |          The delimiter according which to split the string.\n",
            " |          None (the default value) means split according to any whitespace,\n",
            " |          and discard empty strings from the result.\n",
            " |        maxsplit\n",
            " |          Maximum number of splits to do.\n",
            " |          -1 (the default value) means no limit.\n",
            " |      \n",
            " |      Splits are done starting at the end of the string and working to the front.\n",
            " |  \n",
            " |  rstrip(self, chars=None, /)\n",
            " |      Return a copy of the string with trailing whitespace removed.\n",
            " |      \n",
            " |      If chars is given and not None, remove characters in chars instead.\n",
            " |  \n",
            " |  split(self, /, sep=None, maxsplit=-1)\n",
            " |      Return a list of the words in the string, using sep as the delimiter string.\n",
            " |      \n",
            " |      sep\n",
            " |        The delimiter according which to split the string.\n",
            " |        None (the default value) means split according to any whitespace,\n",
            " |        and discard empty strings from the result.\n",
            " |      maxsplit\n",
            " |        Maximum number of splits to do.\n",
            " |        -1 (the default value) means no limit.\n",
            " |  \n",
            " |  splitlines(self, /, keepends=False)\n",
            " |      Return a list of the lines in the string, breaking at line boundaries.\n",
            " |      \n",
            " |      Line breaks are not included in the resulting list unless keepends is given and\n",
            " |      true.\n",
            " |  \n",
            " |  startswith(...)\n",
            " |      S.startswith(prefix[, start[, end]]) -> bool\n",
            " |      \n",
            " |      Return True if S starts with the specified prefix, False otherwise.\n",
            " |      With optional start, test S beginning at that position.\n",
            " |      With optional end, stop comparing S at that position.\n",
            " |      prefix can also be a tuple of strings to try.\n",
            " |  \n",
            " |  strip(self, chars=None, /)\n",
            " |      Return a copy of the string with leading and trailing whitespace removed.\n",
            " |      \n",
            " |      If chars is given and not None, remove characters in chars instead.\n",
            " |  \n",
            " |  swapcase(self, /)\n",
            " |      Convert uppercase characters to lowercase and lowercase characters to uppercase.\n",
            " |  \n",
            " |  title(self, /)\n",
            " |      Return a version of the string where each word is titlecased.\n",
            " |      \n",
            " |      More specifically, words start with uppercased characters and all remaining\n",
            " |      cased characters have lower case.\n",
            " |  \n",
            " |  translate(self, table, /)\n",
            " |      Replace each character in the string using the given translation table.\n",
            " |      \n",
            " |        table\n",
            " |          Translation table, which must be a mapping of Unicode ordinals to\n",
            " |          Unicode ordinals, strings, or None.\n",
            " |      \n",
            " |      The table must implement lookup/indexing via __getitem__, for instance a\n",
            " |      dictionary or list.  If this operation raises LookupError, the character is\n",
            " |      left untouched.  Characters mapped to None are deleted.\n",
            " |  \n",
            " |  upper(self, /)\n",
            " |      Return a copy of the string converted to uppercase.\n",
            " |  \n",
            " |  zfill(self, width, /)\n",
            " |      Pad a numeric string with zeros on the left, to fill a field of the given width.\n",
            " |      \n",
            " |      The string is never truncated.\n",
            " |  \n",
            " |  ----------------------------------------------------------------------\n",
            " |  Static methods defined here:\n",
            " |  \n",
            " |  __new__(*args, **kwargs) from builtins.type\n",
            " |      Create and return a new object.  See help(type) for accurate signature.\n",
            " |  \n",
            " |  maketrans(x, y=None, z=None, /)\n",
            " |      Return a translation table usable for str.translate().\n",
            " |      \n",
            " |      If there is only one argument, it must be a dictionary mapping Unicode\n",
            " |      ordinals (integers) or characters to Unicode ordinals, strings or None.\n",
            " |      Character keys will be then converted to ordinals.\n",
            " |      If there are two arguments, they must be strings of equal length, and\n",
            " |      in the resulting dictionary, each character in x will be mapped to the\n",
            " |      character at the same position in y. If there is a third argument, it\n",
            " |      must be a string, whose characters will be mapped to None in the result.\n",
            "\n"
          ],
          "name": "stdout"
        }
      ]
    },
    {
      "cell_type": "code",
      "metadata": {
        "colab": {
          "base_uri": "https://localhost:8080/",
          "height": 35
        },
        "id": "nXhdR5LMKz1k",
        "outputId": "26fb843e-f669-4a83-db12-767d7b8c1ff2"
      },
      "source": [
        "str.upper(str1)\n"
      ],
      "execution_count": 36,
      "outputs": [
        {
          "output_type": "execute_result",
          "data": {
            "application/vnd.google.colaboratory.intrinsic+json": {
              "type": "string"
            },
            "text/plain": [
              "'I WOULD LIKE TO LEARN DATA SCIENCE'"
            ]
          },
          "metadata": {
            "tags": []
          },
          "execution_count": 36
        }
      ]
    },
    {
      "cell_type": "code",
      "metadata": {
        "id": "G3D3mZGoLZRB"
      },
      "source": [
        ""
      ],
      "execution_count": null,
      "outputs": []
    },
    {
      "cell_type": "code",
      "metadata": {
        "colab": {
          "base_uri": "https://localhost:8080/",
          "height": 35
        },
        "id": "eh_mhugMLtNJ",
        "outputId": "79f0e9c6-8e96-4240-deed-65b526c21848"
      },
      "source": [
        "str.lower(str1)\n"
      ],
      "execution_count": 37,
      "outputs": [
        {
          "output_type": "execute_result",
          "data": {
            "application/vnd.google.colaboratory.intrinsic+json": {
              "type": "string"
            },
            "text/plain": [
              "'i would like to learn data science'"
            ]
          },
          "metadata": {
            "tags": []
          },
          "execution_count": 37
        }
      ]
    },
    {
      "cell_type": "code",
      "metadata": {
        "id": "ik_WWvM4LvKl"
      },
      "source": [
        "import math"
      ],
      "execution_count": 39,
      "outputs": []
    },
    {
      "cell_type": "code",
      "metadata": {
        "colab": {
          "base_uri": "https://localhost:8080/"
        },
        "id": "0jWrUuSrL9Nv",
        "outputId": "60d2632c-3979-4c82-86a0-2bebedd38cdd"
      },
      "source": [
        "help ('modules')"
      ],
      "execution_count": 45,
      "outputs": [
        {
          "output_type": "stream",
          "text": [
            "\n",
            "Please wait a moment while I gather a list of all available modules...\n",
            "\n"
          ],
          "name": "stdout"
        },
        {
          "output_type": "stream",
          "text": [
            "/usr/local/lib/python3.7/dist-packages/IPython/kernel/__init__.py:13: ShimWarning: The `IPython.kernel` package has been deprecated since IPython 4.0.You should import from ipykernel or jupyter_client instead.\n",
            "  \"You should import from ipykernel or jupyter_client instead.\", ShimWarning)\n",
            "WARNING: AstropyDeprecationWarning: The private astropy._erfa module has been made into its own package, pyerfa, which is a dependency of astropy and can be imported directly using \"import erfa\" [astropy._erfa]\n",
            "/usr/local/lib/python3.7/dist-packages/datascience/tables.py:17: MatplotlibDeprecationWarning:\n",
            "\n",
            "The 'warn' parameter of use() is deprecated since Matplotlib 3.1 and will be removed in 3.3.  If any parameter follows 'warn', they should be pass as keyword, not positionally.\n",
            "\n",
            "/usr/local/lib/python3.7/dist-packages/datascience/util.py:10: MatplotlibDeprecationWarning:\n",
            "\n",
            "The 'warn' parameter of use() is deprecated since Matplotlib 3.1 and will be removed in 3.3.  If any parameter follows 'warn', they should be pass as keyword, not positionally.\n",
            "\n",
            "/usr/local/lib/python3.7/dist-packages/psycopg2/__init__.py:144: UserWarning:\n",
            "\n",
            "The psycopg2 wheel package will be renamed from release 2.8; in order to keep installing from binary please use \"pip install psycopg2-binary\" instead. For details see: <http://initd.org/psycopg/docs/install.html#binary-install-from-pypi>.\n",
            "\n",
            "/usr/local/lib/python3.7/dist-packages/sklearn/externals/six.py:31: FutureWarning:\n",
            "\n",
            "The module is deprecated in version 0.21 and will be removed in version 0.23 since we've dropped support for Python 2.7. Please rely on the official version of six (https://pypi.org/project/six/).\n",
            "\n",
            "/usr/local/lib/python3.7/dist-packages/sklearn/utils/deprecation.py:144: FutureWarning:\n",
            "\n",
            "The sklearn.neighbors.base module is  deprecated in version 0.22 and will be removed in version 0.24. The corresponding classes / functions should instead be imported from sklearn.neighbors. Anything that cannot be imported from sklearn.neighbors is now part of the private API.\n",
            "\n",
            "/usr/local/lib/python3.7/dist-packages/sklearn/utils/deprecation.py:144: FutureWarning:\n",
            "\n",
            "The sklearn.datasets.base module is  deprecated in version 0.22 and will be removed in version 0.24. The corresponding classes / functions should instead be imported from sklearn.datasets. Anything that cannot be imported from sklearn.datasets is now part of the private API.\n",
            "\n",
            "/usr/local/lib/python3.7/dist-packages/sklearn/utils/deprecation.py:144: FutureWarning:\n",
            "\n",
            "The sklearn.ensemble.bagging module is  deprecated in version 0.22 and will be removed in version 0.24. The corresponding classes / functions should instead be imported from sklearn.ensemble. Anything that cannot be imported from sklearn.ensemble is now part of the private API.\n",
            "\n",
            "/usr/local/lib/python3.7/dist-packages/sklearn/utils/deprecation.py:144: FutureWarning:\n",
            "\n",
            "The sklearn.ensemble.base module is  deprecated in version 0.22 and will be removed in version 0.24. The corresponding classes / functions should instead be imported from sklearn.ensemble. Anything that cannot be imported from sklearn.ensemble is now part of the private API.\n",
            "\n",
            "/usr/local/lib/python3.7/dist-packages/sklearn/utils/deprecation.py:144: FutureWarning:\n",
            "\n",
            "The sklearn.ensemble.forest module is  deprecated in version 0.22 and will be removed in version 0.24. The corresponding classes / functions should instead be imported from sklearn.ensemble. Anything that cannot be imported from sklearn.ensemble is now part of the private API.\n",
            "\n",
            "/usr/local/lib/python3.7/dist-packages/sklearn/externals/joblib/__init__.py:15: FutureWarning:\n",
            "\n",
            "sklearn.externals.joblib is deprecated in 0.21 and will be removed in 0.23. Please import this functionality directly from joblib, which can be installed with: pip install joblib. If this warning is raised when loading pickled models, you may need to re-serialize those models with scikit-learn 0.21+.\n",
            "\n",
            "/usr/local/lib/python3.7/dist-packages/sklearn/utils/deprecation.py:144: FutureWarning:\n",
            "\n",
            "The sklearn.utils.testing module is  deprecated in version 0.22 and will be removed in version 0.24. The corresponding classes / functions should instead be imported from sklearn.utils. Anything that cannot be imported from sklearn.utils is now part of the private API.\n",
            "\n",
            "/usr/local/lib/python3.7/dist-packages/sklearn/utils/deprecation.py:144: FutureWarning:\n",
            "\n",
            "The sklearn.metrics.classification module is  deprecated in version 0.22 and will be removed in version 0.24. The corresponding classes / functions should instead be imported from sklearn.metrics. Anything that cannot be imported from sklearn.metrics is now part of the private API.\n",
            "\n"
          ],
          "name": "stderr"
        },
        {
          "output_type": "stream",
          "text": [
            "Downloading http://dlib.net/files/shape_predictor_68_face_landmarks.dat.bz2 to /root/mlxtend_data/shape_predictor_68_face_landmarks.dat.bz2\n"
          ],
          "name": "stdout"
        },
        {
          "output_type": "stream",
          "text": [
            "/usr/lib/python3.7/pkgutil.py:92: UserWarning:\n",
            "\n",
            "The DICOM readers are highly experimental, unstable, and only work for Siemens time-series at the moment\n",
            "Please use with caution.  We would be grateful for your help in improving them\n",
            "\n",
            "/usr/local/lib/python3.7/dist-packages/nltk/twitter/__init__.py:20: UserWarning:\n",
            "\n",
            "The twython library has not been installed. Some functionality from the twitter package will not be available.\n",
            "\n",
            "Exception ignored in: <_io.FileIO name='/usr/local/lib/python3.7/dist-packages/theano/gof/c_code/lazylinker_c.c' mode='rb' closefd=True>\n",
            "ResourceWarning: unclosed file <_io.TextIOWrapper name='/usr/local/lib/python3.7/dist-packages/theano/gof/c_code/lazylinker_c.c' mode='r' encoding='UTF-8'>\n",
            "WARNING:pystan:This submodule contains experimental code, please use with caution\n"
          ],
          "name": "stderr"
        },
        {
          "output_type": "stream",
          "text": [
            "No CUDA runtime is found, using CUDA_HOME='/usr/local/cuda'\n",
            "Cython              community           keras               random\n",
            "IPython             compileall          keras_preprocessing re\n",
            "OpenGL              concurrent          keyword             readline\n",
            "PIL                 configparser        kiwisolver          regex\n",
            "ScreenResolution    contextlib          knnimpute           reprlib\n",
            "__future__          contextlib2         korean_lunar_calendar requests\n",
            "_abc                contextvars         lib2to3             requests_oauthlib\n",
            "_ast                convertdate         libfuturize         resampy\n",
            "_asyncio            copy                libpasteurize       resource\n",
            "_bisect             copyreg             librosa             retrying\n",
            "_blake2             coverage            lightgbm            rlcompleter\n",
            "_bootlocale         coveralls           linecache           rmagic\n",
            "_bz2                crcmod              llvmlite            rpy2\n",
            "_cffi_backend       crypt               lmdb                rsa\n",
            "_codecs             csv                 locale              runpy\n",
            "_codecs_cn          ctypes              logging             samples\n",
            "_codecs_hk          cufflinks           lsb_release         sched\n",
            "_codecs_iso2022     curses              lucid               scipy\n",
            "_codecs_jp          cv2                 lunarcalendar       scs\n",
            "_codecs_kr          cvxopt              lxml                seaborn\n",
            "_codecs_tw          cvxpy               lzma                secrets\n",
            "_collections        cycler              macpath             select\n",
            "_collections_abc    cymem               mailbox             selectors\n",
            "_compat_pickle      cython              mailcap             send2trash\n",
            "_compression        cythonmagic         markdown            setuptools\n",
            "_contextvars        daft                markupsafe          setuptools_git\n",
            "_crypt              dask                marshal             shapely\n",
            "_csv                dataclasses         math                shelve\n",
            "_ctypes             datascience         matplotlib          shlex\n",
            "_ctypes_test        datetime            matplotlib_venn     shutil\n",
            "_curses             dateutil            mimetypes           signal\n",
            "_curses_panel       dbm                 missingno           simplegeneric\n",
            "_cvxcore            dbus                mistune             site\n",
            "_datetime           debugpy             mizani              sitecustomize\n",
            "_dbm                decimal             mlxtend             six\n",
            "_decimal            decorator           mmap                skimage\n",
            "_distutils_hack     defusedxml          modulefinder        sklearn\n",
            "_dummy_thread       descartes           more_itertools      sklearn_pandas\n",
            "_ecos               difflib             moviepy             slugify\n",
            "_elementtree        dill                mpmath              smart_open\n",
            "_functools          dis                 msgpack             smtpd\n",
            "_hashlib            distributed         multiprocess        smtplib\n",
            "_heapq              distutils           multiprocessing     sndhdr\n",
            "_imp                django              multitasking        snowballstemmer\n",
            "_io                 dlib                murmurhash          socket\n",
            "_json               docopt              music21             socketserver\n",
            "_locale             docs                natsort             socks\n",
            "_lsprof             doctest             nbclient            sockshandler\n",
            "_lzma               docutils            nbconvert           softwareproperties\n",
            "_markupbase         dopamine            nbformat            sortedcontainers\n",
            "_md5                dot_parser          nest_asyncio        soundfile\n",
            "_multibytecodec     dummy_threading     netrc               spacy\n",
            "_multiprocess       easydict            networkx            sphinx\n",
            "_multiprocessing    ecos                nibabel             spwd\n",
            "_opcode             editdistance        nis                 sql\n",
            "_operator           ee                  nisext              sqlalchemy\n",
            "_osx_support        email               nltk                sqlite3\n",
            "_pickle             en_core_web_sm      nntplib             sqlparse\n",
            "_plotly_future_     encodings           notebook            sre_compile\n",
            "_plotly_utils       entrypoints         np_utils            sre_constants\n",
            "_posixsubprocess    enum                ntpath              sre_parse\n",
            "_py_abc             ephem               nturl2path          srsly\n",
            "_pydecimal          erfa                numba               ssl\n",
            "_pyio               errno               numbergen           stat\n",
            "_pyrsistent_version et_xmlfile          numbers             statistics\n",
            "_pytest             examples            numexpr             statsmodels\n",
            "_queue              fa2                 numpy               storemagic\n",
            "_random             fancyimpute         nvidia_smi          string\n",
            "_rinterface_cffi_abi fastai              oauth2client        stringprep\n",
            "_rinterface_cffi_api fastdtw             oauthlib            struct\n",
            "_scs_direct         fastprogress        ogr                 subprocess\n",
            "_scs_indirect       fastrlock           okgrade             sunau\n",
            "_scs_python         faulthandler        onnx_chainer        symbol\n",
            "_sha1               fbprophet           opcode              sympy\n",
            "_sha256             fcntl               openpyxl            sympyprinting\n",
            "_sha3               feather             operator            symtable\n",
            "_sha512             filecmp             opt_einsum          sys\n",
            "_signal             fileinput           optparse            sysconfig\n",
            "_sitebuiltins       filelock            os                  syslog\n",
            "_socket             firebase_admin      osgeo               tables\n",
            "_soundfile          fix_yahoo_finance   osqp                tabnanny\n",
            "_sqlite3            flask               osqppurepy          tabulate\n",
            "_sre                flatbuffers         osr                 tarfile\n",
            "_ssl                fnmatch             ossaudiodev         tblib\n",
            "_stat               folium              packaging           telnetlib\n",
            "_string             formatter           palettable          tempfile\n",
            "_strptime           fractions           pandas              tensorboard\n",
            "_struct             ftplib              pandas_datareader   tensorboard_plugin_wit\n",
            "_symtable           functools           pandas_gbq          tensorflow\n",
            "_sysconfigdata_m_linux_x86_64-linux-gnu future              pandas_profiling    tensorflow_datasets\n",
            "_testbuffer         gast                pandocfilters       tensorflow_estimator\n",
            "_testcapi           gc                  panel               tensorflow_gcs_config\n",
            "_testimportmultiple gdal                param               tensorflow_hub\n",
            "_testmultiphase     gdalconst           parser              tensorflow_metadata\n",
            "_thread             gdalnumeric         parso               tensorflow_probability\n",
            "_threading_local    gdown               past                termcolor\n",
            "_tkinter            genericpath         pasta               terminado\n",
            "_tracemalloc        gensim              pathlib             termios\n",
            "_warnings           geographiclib       patsy               test\n",
            "_weakref            geopy               pdb                 testpath\n",
            "_weakrefset         getopt              pexpect             tests\n",
            "_xxtestfuzz         getpass             pickle              text_unidecode\n",
            "abc                 gettext             pickleshare         textblob\n",
            "absl                gi                  pickletools         textgenrnn\n",
            "aifc                gin                 pip                 textwrap\n",
            "alabaster           github2pypi         pipes               theano\n",
            "albumentations      glob                piptools            thinc\n",
            "altair              glob2               pkg_resources       this\n",
            "antigravity         gnm                 pkgutil             threading\n",
            "apiclient           google_auth_httplib2 plac                tifffile\n",
            "appdirs             google_auth_oauthlib plac_core           time\n",
            "apt                 google_drive_downloader plac_ext            timeit\n",
            "apt_inst            googleapiclient     plac_tk             tkinter\n",
            "apt_pkg             googlesearch        platform            tlz\n",
            "aptsources          graphviz            plistlib            token\n",
            "argon2              gridfs              plotly              tokenize\n",
            "argparse            grp                 plotlywidget        toml\n",
            "array               grpc                plotnine            toolz\n",
            "asgiref             gspread             pluggy              torch\n",
            "ast                 gspread_dataframe   pooch               torchsummary\n",
            "astor               gym                 poplib              torchtext\n",
            "astropy             gzip                portpicker          torchvision\n",
            "astunparse          h5py                posix               tornado\n",
            "async_generator     hashlib             posixpath           tqdm\n",
            "asynchat            heapdict            pprint              trace\n",
            "asyncio             heapq               prefetch_generator  traceback\n",
            "asyncore            hijri_converter     preshed             tracemalloc\n",
            "atari_py            hmac                prettytable         traitlets\n",
            "atexit              holidays            profile             tree\n",
            "atomicwrites        holoviews           progressbar         tty\n",
            "attr                html                prometheus_client   turtle\n",
            "audioop             html5lib            promise             tweepy\n",
            "audioread           http                prompt_toolkit      typeguard\n",
            "autograd            httpimport          pstats              types\n",
            "autoreload          httplib2            psutil              typing\n",
            "babel               httplib2shim        psycopg2            typing_extensions\n",
            "backcall            humanize            pty                 tzlocal\n",
            "base64              hyperopt            ptyprocess          umap\n",
            "bdb                 ideep4py            pvectorc            unicodedata\n",
            "bin                 idna                pwd                 unittest\n",
            "binascii            image               py                  uritemplate\n",
            "binhex              imageio             py_compile          urllib\n",
            "bisect              imagesize           pyarrow             urllib3\n",
            "bleach              imaplib             pyasn1              uu\n",
            "blis                imblearn            pyasn1_modules      uuid\n",
            "bokeh               imgaug              pyclbr              vega_datasets\n",
            "boost               imghdr              pycocotools         venv\n",
            "bottleneck          imp                 pycparser           vis\n",
            "branca              importlib           pyct                warnings\n",
            "bs4                 importlib_metadata  pydata_google_auth  wasabi\n",
            "bson                importlib_resources pydoc               wave\n",
            "builtins            imutils             pydoc_data          wcwidth\n",
            "bz2                 inflect             pydot               weakref\n",
            "cProfile            iniconfig           pydot_ng            webbrowser\n",
            "cachecontrol        inspect             pydotplus           webencodings\n",
            "cachetools          intervaltree        pydrive             werkzeug\n",
            "caffe2              io                  pyemd               wheel\n",
            "calendar            ipaddress           pyexpat             widgetsnbextension\n",
            "catalogue           ipykernel           pyglet              wordcloud\n",
            "certifi             ipykernel_launcher  pygments            wrapt\n",
            "cffi                ipython_genutils    pygtkcompat         wsgiref\n",
            "cgi                 ipywidgets          pylab               xarray\n",
            "cgitb               isympy              pymc3               xdrlib\n",
            "chainer             itertools           pymeeus             xgboost\n",
            "chainermn           itsdangerous        pymongo             xkit\n",
            "chainerx            jax                 pymystem3           xlrd\n",
            "chardet             jaxlib              pynndescent         xlwt\n",
            "chess               jdcal               pynvml              xml\n",
            "chunk               jedi                pyparsing           xmlrpc\n",
            "click               jieba               pyrsistent          xxlimited\n",
            "client              jinja2              pysndfile           xxsubtype\n",
            "cloudpickle         joblib              pystan              yaml\n",
            "cmake               jpeg4py             pytest              yellowbrick\n",
            "cmath               json                python_utils        zict\n",
            "cmd                 jsonschema          pytz                zipapp\n",
            "cmdstanpy           jupyter             pyviz_comms         zipfile\n",
            "code                jupyter_client      pywt                zipimport\n",
            "codecs              jupyter_console     pyximport           zipp\n",
            "codeop              jupyter_core        qdldl               zlib\n",
            "colab               jupyterlab_pygments qtconsole           zmq\n",
            "collections         jupyterlab_widgets  qtpy                \n",
            "colorlover          kaggle              queue               \n",
            "colorsys            kapre               quopri              \n",
            "\n",
            "Enter any module name to get more help.  Or, type \"modules spam\" to search\n",
            "for modules whose name or summary contain the string \"spam\".\n",
            "\n"
          ],
          "name": "stdout"
        }
      ]
    },
    {
      "cell_type": "code",
      "metadata": {
        "colab": {
          "base_uri": "https://localhost:8080/"
        },
        "id": "a3-5ZsYKMbKo",
        "outputId": "5a855a2d-d692-4dd9-865a-b8db28bb16e4"
      },
      "source": [
        "help ('contain*')"
      ],
      "execution_count": 47,
      "outputs": [
        {
          "output_type": "stream",
          "text": [
            "No Python documentation found for 'contain*'.\n",
            "Use help() to get the interactive help utility.\n",
            "Use help(str) for help on the str class.\n",
            "\n"
          ],
          "name": "stdout"
        }
      ]
    },
    {
      "cell_type": "code",
      "metadata": {
        "colab": {
          "base_uri": "https://localhost:8080/"
        },
        "id": "J2fsm6auOk6j",
        "outputId": "281b2e60-082d-4c8b-d51e-07b2b32ba3be"
      },
      "source": [
        "\"data\" == str1"
      ],
      "execution_count": 49,
      "outputs": [
        {
          "output_type": "execute_result",
          "data": {
            "text/plain": [
              "False"
            ]
          },
          "metadata": {
            "tags": []
          },
          "execution_count": 49
        }
      ]
    },
    {
      "cell_type": "code",
      "metadata": {
        "colab": {
          "base_uri": "https://localhost:8080/"
        },
        "id": "QjXqB7ZoT_uJ",
        "outputId": "d804f4b9-abd5-42fd-dff4-7505dbd41073"
      },
      "source": [
        "print(str1)"
      ],
      "execution_count": 50,
      "outputs": [
        {
          "output_type": "stream",
          "text": [
            "I would like to learn data science\n"
          ],
          "name": "stdout"
        }
      ]
    },
    {
      "cell_type": "code",
      "metadata": {
        "colab": {
          "base_uri": "https://localhost:8080/"
        },
        "id": "QgIovQDLUXam",
        "outputId": "5b892c3e-e3bd-4954-e2c3-ead236e724ed"
      },
      "source": [
        "str.split(str1,\" \")"
      ],
      "execution_count": 52,
      "outputs": [
        {
          "output_type": "execute_result",
          "data": {
            "text/plain": [
              "['I', 'would', 'like', 'to', 'learn', 'data', 'science']"
            ]
          },
          "metadata": {
            "tags": []
          },
          "execution_count": 52
        }
      ]
    },
    {
      "cell_type": "code",
      "metadata": {
        "id": "Y0JUfRKkUezW"
      },
      "source": [
        ""
      ],
      "execution_count": null,
      "outputs": []
    },
    {
      "cell_type": "code",
      "metadata": {
        "id": "oYFfOpc8UwKo"
      },
      "source": [
        "list1=str.split(str1,\" \") # split string and assign to list"
      ],
      "execution_count": 53,
      "outputs": []
    },
    {
      "cell_type": "code",
      "metadata": {
        "colab": {
          "base_uri": "https://localhost:8080/"
        },
        "id": "4Ew73OHHU6bQ",
        "outputId": "22484540-3c9b-40b9-f620-7eb967522782"
      },
      "source": [
        "print(list1) #print list"
      ],
      "execution_count": 57,
      "outputs": [
        {
          "output_type": "stream",
          "text": [
            "['I', 'would', 'like', 'to', 'learn', 'data', 'science']\n"
          ],
          "name": "stdout"
        }
      ]
    },
    {
      "cell_type": "code",
      "metadata": {
        "id": "2jDc7TBJU-O9"
      },
      "source": [
        "\n",
        "Name = 'David'\n",
        "Phone ='123456789'"
      ],
      "execution_count": 62,
      "outputs": []
    },
    {
      "cell_type": "code",
      "metadata": {
        "colab": {
          "base_uri": "https://localhost:8080/"
        },
        "id": "Gl28brUVVLEy",
        "outputId": "0886f489-9f21-4b81-8567-ea376910d874"
      },
      "source": [
        "print(\"My Name is \" + Name + \" and my phone number is \" + Phone )"
      ],
      "execution_count": 67,
      "outputs": [
        {
          "output_type": "stream",
          "text": [
            "My Name is David and my phone number is 123456789\n"
          ],
          "name": "stdout"
        }
      ]
    },
    {
      "cell_type": "code",
      "metadata": {
        "id": "tQ1UqidQVyAu"
      },
      "source": [
        "# Create the following list: colors = ['Red', 'Yellow', 'Green', 'Black', 'White'] and print the new list.\n"
      ],
      "execution_count": 68,
      "outputs": []
    },
    {
      "cell_type": "code",
      "metadata": {
        "colab": {
          "base_uri": "https://localhost:8080/"
        },
        "id": "sLmVNqpOWtjq",
        "outputId": "79555c10-a1bf-4346-fb05-52f9b6593a99"
      },
      "source": [
        "colors = ['Red', 'Yellow', 'Green', 'Black', 'White']\n",
        "print (colors)\n"
      ],
      "execution_count": 91,
      "outputs": [
        {
          "output_type": "stream",
          "text": [
            "['Red', 'Yellow', 'Green', 'Black', 'White']\n"
          ],
          "name": "stdout"
        }
      ]
    },
    {
      "cell_type": "code",
      "metadata": {
        "colab": {
          "base_uri": "https://localhost:8080/"
        },
        "id": "tORQ-drdWqR8",
        "outputId": "049713aa-925a-4278-e127-14a03cad8f4f"
      },
      "source": [
        "print(colors[1]) #Print the second color in the colors list."
      ],
      "execution_count": 79,
      "outputs": [
        {
          "output_type": "stream",
          "text": [
            "Yellow\n"
          ],
          "name": "stdout"
        }
      ]
    },
    {
      "cell_type": "code",
      "metadata": {
        "colab": {
          "base_uri": "https://localhost:8080/"
        },
        "id": "dB2YHUxGW4xk",
        "outputId": "65544f4b-8193-43cb-e3df-40d199be777e"
      },
      "source": [
        "sorted(colors) #Sort and print the colors list in alphabetical order using the sort method."
      ],
      "execution_count": 80,
      "outputs": [
        {
          "output_type": "execute_result",
          "data": {
            "text/plain": [
              "['Black', 'Green', 'Red', 'White', 'Yellow']"
            ]
          },
          "metadata": {
            "tags": []
          },
          "execution_count": 80
        }
      ]
    },
    {
      "cell_type": "code",
      "metadata": {
        "id": "MXNM5GjeXQPk"
      },
      "source": [
        "list.append(colors,'Blue')\n"
      ],
      "execution_count": 93,
      "outputs": []
    },
    {
      "cell_type": "code",
      "metadata": {
        "colab": {
          "base_uri": "https://localhost:8080/"
        },
        "id": "8q0TaKm1X0ua",
        "outputId": "f779f3aa-3ca4-4024-d536-09431e240455"
      },
      "source": [
        "print(colors)"
      ],
      "execution_count": 94,
      "outputs": [
        {
          "output_type": "stream",
          "text": [
            "['Red', 'Yellow', 'Green', 'Black', 'White', 'Blue', 'Blue']\n"
          ],
          "name": "stdout"
        }
      ]
    },
    {
      "cell_type": "code",
      "metadata": {
        "colab": {
          "base_uri": "https://localhost:8080/",
          "height": 35
        },
        "id": "bOGd6equYzOZ",
        "outputId": "31ac81fa-958c-4a56-be3a-4da7ebfb2188"
      },
      "source": [
        "list.pop(colors)"
      ],
      "execution_count": 95,
      "outputs": [
        {
          "output_type": "execute_result",
          "data": {
            "application/vnd.google.colaboratory.intrinsic+json": {
              "type": "string"
            },
            "text/plain": [
              "'Blue'"
            ]
          },
          "metadata": {
            "tags": []
          },
          "execution_count": 95
        }
      ]
    },
    {
      "cell_type": "code",
      "metadata": {
        "colab": {
          "base_uri": "https://localhost:8080/"
        },
        "id": "lVUYAbhjZLlS",
        "outputId": "aa36b842-3808-47b4-a572-e4c0a0a9a23c"
      },
      "source": [
        "print(colors)"
      ],
      "execution_count": 97,
      "outputs": [
        {
          "output_type": "stream",
          "text": [
            "['Red', 'Yellow', 'Green', 'Black', 'White', 'Blue']\n"
          ],
          "name": "stdout"
        }
      ]
    },
    {
      "cell_type": "code",
      "metadata": {
        "id": "f81mMzcAZPky"
      },
      "source": [
        "list.remove(colors,'Green') #Remove the color 'Green' from the list by using the value and print the updated list"
      ],
      "execution_count": 99,
      "outputs": []
    },
    {
      "cell_type": "code",
      "metadata": {
        "colab": {
          "base_uri": "https://localhost:8080/"
        },
        "id": "idc4ZZIvZ9an",
        "outputId": "d686f78e-431f-44e5-c1a0-e0f676625a35"
      },
      "source": [
        "print(colors)"
      ],
      "execution_count": 100,
      "outputs": [
        {
          "output_type": "stream",
          "text": [
            "['Red', 'Yellow', 'Black', 'White', 'Blue']\n"
          ],
          "name": "stdout"
        }
      ]
    },
    {
      "cell_type": "code",
      "metadata": {
        "colab": {
          "base_uri": "https://localhost:8080/"
        },
        "id": "Q7gizx6yaSl4",
        "outputId": "52165823-26f3-40a8-f813-425229535819"
      },
      "source": [
        "len(colors) #Remove the color 'Green' from the list by using the value and print the updated list."
      ],
      "execution_count": 101,
      "outputs": [
        {
          "output_type": "execute_result",
          "data": {
            "text/plain": [
              "5"
            ]
          },
          "metadata": {
            "tags": []
          },
          "execution_count": 101
        }
      ]
    },
    {
      "cell_type": "code",
      "metadata": {
        "id": "g2Pqp5G6a26J"
      },
      "source": [
        " list1 = ['A','B','C']\n",
        "list2 = ['D','E','F','G']"
      ],
      "execution_count": 103,
      "outputs": []
    },
    {
      "cell_type": "code",
      "metadata": {
        "id": "K5ISNFRcbBG6"
      },
      "source": [
        "list3=(list1 + list2)"
      ],
      "execution_count": 116,
      "outputs": []
    },
    {
      "cell_type": "code",
      "metadata": {
        "colab": {
          "base_uri": "https://localhost:8080/"
        },
        "id": "ImvqldGHbJ3O",
        "outputId": "0261b779-447d-45d4-ab93-1f7b158198fa"
      },
      "source": [
        "print(list3)"
      ],
      "execution_count": 117,
      "outputs": [
        {
          "output_type": "stream",
          "text": [
            "['A', 'B', 'C', 'D', 'E', 'F', 'G']\n"
          ],
          "name": "stdout"
        }
      ]
    },
    {
      "cell_type": "code",
      "metadata": {
        "id": "hryCfJXhbbJl"
      },
      "source": [
        ""
      ],
      "execution_count": null,
      "outputs": []
    },
    {
      "cell_type": "code",
      "metadata": {
        "colab": {
          "base_uri": "https://localhost:8080/"
        },
        "id": "n4aahp8dcjzV",
        "outputId": "27429d21-4665-46e8-84a3-811a7ad207ca"
      },
      "source": [
        "print(list3[1:4])"
      ],
      "execution_count": 119,
      "outputs": [
        {
          "output_type": "stream",
          "text": [
            "['B', 'C', 'D']\n"
          ],
          "name": "stdout"
        }
      ]
    },
    {
      "cell_type": "code",
      "metadata": {
        "id": "Ny6b7QIeclmH"
      },
      "source": [
        ""
      ],
      "execution_count": null,
      "outputs": []
    },
    {
      "cell_type": "code",
      "metadata": {
        "colab": {
          "base_uri": "https://localhost:8080/"
        },
        "id": "Ed4RdkECcrCE",
        "outputId": "876d88c5-6356-493f-c1d3-f3824535081a"
      },
      "source": [
        "print(list3[2:])"
      ],
      "execution_count": 120,
      "outputs": [
        {
          "output_type": "stream",
          "text": [
            "['C', 'D', 'E', 'F', 'G']\n"
          ],
          "name": "stdout"
        }
      ]
    },
    {
      "cell_type": "code",
      "metadata": {
        "id": "RIBUr1ngcthm"
      },
      "source": [
        "list4=list3[:]"
      ],
      "execution_count": 123,
      "outputs": []
    },
    {
      "cell_type": "code",
      "metadata": {
        "colab": {
          "base_uri": "https://localhost:8080/"
        },
        "id": "m0Odbh_3c6kj",
        "outputId": "01fd6814-d8cb-41d6-ed25-23808c25ee06"
      },
      "source": [
        "print(list4)"
      ],
      "execution_count": 124,
      "outputs": [
        {
          "output_type": "stream",
          "text": [
            "['A', 'B', 'C', 'D', 'E', 'F', 'G']\n"
          ],
          "name": "stdout"
        }
      ]
    },
    {
      "cell_type": "code",
      "metadata": {
        "id": "RtV_kqNxdIi_"
      },
      "source": [
        "tuple1=(1,2,3,4,5) # create tuple"
      ],
      "execution_count": 132,
      "outputs": []
    },
    {
      "cell_type": "code",
      "metadata": {
        "colab": {
          "base_uri": "https://localhost:8080/"
        },
        "id": "cRAybjIjdpvk",
        "outputId": "cedfb40e-b240-4402-8e23-4866114f3400"
      },
      "source": [
        "print(tuple1)"
      ],
      "execution_count": 133,
      "outputs": [
        {
          "output_type": "stream",
          "text": [
            "(1, 2, 3, 4, 5)\n"
          ],
          "name": "stdout"
        }
      ]
    },
    {
      "cell_type": "code",
      "metadata": {
        "id": "UKlCCjt6drrU"
      },
      "source": [
        "tuple2=list(tuple1) # make tuple a list\n",
        "tuple2[0]=7 # update list"
      ],
      "execution_count": 136,
      "outputs": []
    },
    {
      "cell_type": "code",
      "metadata": {
        "id": "5TehcG0Bdvj8"
      },
      "source": [
        "tuple1=tuple(tuple2) #update tuple"
      ],
      "execution_count": 139,
      "outputs": []
    },
    {
      "cell_type": "code",
      "metadata": {
        "colab": {
          "base_uri": "https://localhost:8080/"
        },
        "id": "POum_s4Df9BU",
        "outputId": "976a67a4-610d-4dc6-ca6b-24675d3ee766"
      },
      "source": [
        "print(tuple1)"
      ],
      "execution_count": 140,
      "outputs": [
        {
          "output_type": "stream",
          "text": [
            "(7, 2, 3, 4, 5)\n"
          ],
          "name": "stdout"
        }
      ]
    },
    {
      "cell_type": "code",
      "metadata": {
        "colab": {
          "base_uri": "https://localhost:8080/"
        },
        "id": "iQuy99JFf_OJ",
        "outputId": "c42eac66-9697-46d7-db69-392a7abaa432"
      },
      "source": [
        "colors = ['Red', 'Yellow', 'Green', 'Black', 'White']\n",
        "print(colors)"
      ],
      "execution_count": 142,
      "outputs": [
        {
          "output_type": "stream",
          "text": [
            "['Red', 'Yellow', 'Green', 'Black', 'White']\n"
          ],
          "name": "stdout"
        }
      ]
    },
    {
      "cell_type": "code",
      "metadata": {
        "colab": {
          "base_uri": "https://localhost:8080/"
        },
        "id": "wKEmFnQygsr2",
        "outputId": "6eb5c50f-be01-4681-98f8-6cdf9875101d"
      },
      "source": [
        "if 'Black' in colors:   \n",
        "    print(\"YES\")  \n",
        "\n",
        "#Print \"Yes\" if the \"Black\" value inside the colors list"
      ],
      "execution_count": 147,
      "outputs": [
        {
          "output_type": "stream",
          "text": [
            "YES\n"
          ],
          "name": "stdout"
        }
      ]
    },
    {
      "cell_type": "code",
      "metadata": {
        "colab": {
          "base_uri": "https://localhost:8080/"
        },
        "id": "cHSv4PK6g5_7",
        "outputId": "1c037e82-1328-4088-f661-7a3d85500ec5"
      },
      "source": [
        "if 'Black' in colors and 'Pink' not in colors:\n",
        "    print(\"YES\")\n",
        "else:\n",
        "    print(\"NO\")"
      ],
      "execution_count": 149,
      "outputs": [
        {
          "output_type": "stream",
          "text": [
            "YES\n"
          ],
          "name": "stdout"
        }
      ]
    },
    {
      "cell_type": "code",
      "metadata": {
        "id": "KKJuJ0WPiDKq"
      },
      "source": [
        ""
      ],
      "execution_count": null,
      "outputs": []
    },
    {
      "cell_type": "code",
      "metadata": {
        "colab": {
          "base_uri": "https://localhost:8080/"
        },
        "id": "VU415gfAijTE",
        "outputId": "53badf80-488b-4ced-8e54-a8269f93233f"
      },
      "source": [
        "if 'Black' in colors and 'White' not in colors:\n",
        "    print(\"YES\")\n",
        "else:\n",
        "    print(\"NO\")"
      ],
      "execution_count": 150,
      "outputs": [
        {
          "output_type": "stream",
          "text": [
            "NO\n"
          ],
          "name": "stdout"
        }
      ]
    },
    {
      "cell_type": "code",
      "metadata": {
        "colab": {
          "base_uri": "https://localhost:8080/"
        },
        "id": "0UBfBGgQilK3",
        "outputId": "2973d9f2-36b6-4b29-8eba-35bc8fbfafec"
      },
      "source": [
        "num1=50\n",
        "if num1>=100:\n",
        "  print(\"more then 100\")\n",
        "else:\n",
        "  print(\"more then 40\")"
      ],
      "execution_count": 151,
      "outputs": [
        {
          "output_type": "stream",
          "text": [
            "more then 40\n"
          ],
          "name": "stdout"
        }
      ]
    },
    {
      "cell_type": "code",
      "metadata": {
        "colab": {
          "base_uri": "https://localhost:8080/"
        },
        "id": "bgsCK6WjjF1s",
        "outputId": "58b5104a-0282-4487-a34f-9307bfc5e497"
      },
      "source": [
        "print(colors)"
      ],
      "execution_count": 152,
      "outputs": [
        {
          "output_type": "stream",
          "text": [
            "['Red', 'Yellow', 'Green', 'Black', 'White']\n"
          ],
          "name": "stdout"
        }
      ]
    },
    {
      "cell_type": "code",
      "metadata": {
        "colab": {
          "base_uri": "https://localhost:8080/"
        },
        "id": "WJ1Bs-x-jNCq",
        "outputId": "0b8ebf0c-b912-4ae4-c194-12f9f9bc1157"
      },
      "source": [
        "for i in colors:\n",
        "  print(i)"
      ],
      "execution_count": 159,
      "outputs": [
        {
          "output_type": "stream",
          "text": [
            "Red\n",
            "Yellow\n",
            "Green\n",
            "Black\n",
            "White\n"
          ],
          "name": "stdout"
        }
      ]
    },
    {
      "cell_type": "code",
      "metadata": {
        "colab": {
          "base_uri": "https://localhost:8080/"
        },
        "id": "S4_6JCAKjbA1",
        "outputId": "0ac80d3f-3ad5-41c3-acfb-07ad4fb568d5"
      },
      "source": [
        "for i in range(1,31):\n",
        " print(i)"
      ],
      "execution_count": 162,
      "outputs": [
        {
          "output_type": "stream",
          "text": [
            "1\n",
            "2\n",
            "3\n",
            "4\n",
            "5\n",
            "6\n",
            "7\n",
            "8\n",
            "9\n",
            "10\n",
            "11\n",
            "12\n",
            "13\n",
            "14\n",
            "15\n",
            "16\n",
            "17\n",
            "18\n",
            "19\n",
            "20\n",
            "21\n",
            "22\n",
            "23\n",
            "24\n",
            "25\n",
            "26\n",
            "27\n",
            "28\n",
            "29\n",
            "30\n"
          ],
          "name": "stdout"
        }
      ]
    },
    {
      "cell_type": "code",
      "metadata": {
        "id": "oZFSt4ilkWi6"
      },
      "source": [
        ""
      ],
      "execution_count": null,
      "outputs": []
    }
  ]
}