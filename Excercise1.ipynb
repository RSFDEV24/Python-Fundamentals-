{
  "nbformat": 4,
  "nbformat_minor": 0,
  "metadata": {
    "colab": {
      "name": "Excercise1.ipynb",
      "provenance": [],
      "collapsed_sections": [],
      "authorship_tag": "ABX9TyNdhALYgvwYpFZjqOnOSGLF",
      "include_colab_link": true
    },
    "kernelspec": {
      "name": "python3",
      "display_name": "Python 3"
    },
    "language_info": {
      "name": "python"
    }
  },
  "cells": [
    {
      "cell_type": "markdown",
      "metadata": {
        "id": "view-in-github",
        "colab_type": "text"
      },
      "source": [
        "<a href=\"https://colab.research.google.com/github/RSFDEV24/Python-Fundamentals-/blob/main/Excercise1.ipynb\" target=\"_parent\"><img src=\"https://colab.research.google.com/assets/colab-badge.svg\" alt=\"Open In Colab\"/></a>"
      ]
    },
    {
      "cell_type": "code",
      "metadata": {
        "id": "_3-CKLPAAmas"
      },
      "source": [
        "num1=100\n",
        "num2=300.0\n",
        "str1=\"I would like to learn data science\"\n",
        "list1=['A','B','C']\n",
        "bol1=True\n"
      ],
      "execution_count": 11,
      "outputs": []
    },
    {
      "cell_type": "code",
      "metadata": {
        "id": "NkQnAlYEGeO8"
      },
      "source": [
        "#Check the type of each variable that you created using the type() function. "
      ],
      "execution_count": 13,
      "outputs": []
    },
    {
      "cell_type": "code",
      "metadata": {
        "id": "H1FLxSHrA36s",
        "colab": {
          "base_uri": "https://localhost:8080/"
        },
        "outputId": "5f593802-e648-44f0-9597-b1535259e3f4"
      },
      "source": [
        "type(list1)\n"
      ],
      "execution_count": 12,
      "outputs": [
        {
          "output_type": "execute_result",
          "data": {
            "text/plain": [
              "list"
            ]
          },
          "metadata": {
            "tags": []
          },
          "execution_count": 12
        }
      ]
    },
    {
      "cell_type": "code",
      "metadata": {
        "colab": {
          "base_uri": "https://localhost:8080/"
        },
        "id": "TBnty-bzF87z",
        "outputId": "bd0c7995-f275-470c-c975-bf826ceabaef"
      },
      "source": [
        "# Print the value of each variable using the print() function.\n",
        "print(num2)"
      ],
      "execution_count": 14,
      "outputs": [
        {
          "output_type": "stream",
          "text": [
            "300.0\n"
          ],
          "name": "stdout"
        }
      ]
    },
    {
      "cell_type": "code",
      "metadata": {
        "id": "kVseKCc5HWGp"
      },
      "source": [
        "num1 = \"100\";num2=num1 ;num3 = num2"
      ],
      "execution_count": 16,
      "outputs": []
    },
    {
      "cell_type": "code",
      "metadata": {
        "colab": {
          "base_uri": "https://localhost:8080/"
        },
        "id": "iGnopsNgItse",
        "outputId": "a60bbeab-b04b-44e0-a571-293d772534d7"
      },
      "source": [
        "print(num2)"
      ],
      "execution_count": 18,
      "outputs": [
        {
          "output_type": "stream",
          "text": [
            "100\n"
          ],
          "name": "stdout"
        }
      ]
    },
    {
      "cell_type": "code",
      "metadata": {
        "id": "EFXe2ypCJQYW"
      },
      "source": [
        "num1=10;num2=20;num3=30"
      ],
      "execution_count": 19,
      "outputs": []
    },
    {
      "cell_type": "code",
      "metadata": {
        "colab": {
          "base_uri": "https://localhost:8080/"
        },
        "id": "9guFf8s2Jc3t",
        "outputId": "67946259-841e-4a1f-f524-3201d9cc9fd1"
      },
      "source": [
        "print(num3)"
      ],
      "execution_count": 22,
      "outputs": [
        {
          "output_type": "stream",
          "text": [
            "30\n"
          ],
          "name": "stdout"
        }
      ]
    },
    {
      "cell_type": "code",
      "metadata": {
        "colab": {
          "base_uri": "https://localhost:8080/"
        },
        "id": "WHKGmXsiJe05",
        "outputId": "61f654d5-e14e-4f8d-d7fe-aa4b5b4e8770"
      },
      "source": [
        "len(str1)"
      ],
      "execution_count": 23,
      "outputs": [
        {
          "output_type": "execute_result",
          "data": {
            "text/plain": [
              "34"
            ]
          },
          "metadata": {
            "tags": []
          },
          "execution_count": 23
        }
      ]
    },
    {
      "cell_type": "code",
      "metadata": {
        "id": "i2UrBTVCJrfQ"
      },
      "source": [
        ""
      ],
      "execution_count": null,
      "outputs": []
    }
  ]
}